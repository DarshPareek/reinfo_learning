{
 "cells": [
  {
   "cell_type": "code",
   "execution_count": 1,
   "metadata": {},
   "outputs": [],
   "source": [
    "import os\n",
    "# Keep using keras-2 (tf-keras) rather than keras-3 (keras).\n",
    "os.environ['TF_USE_LEGACY_KERAS'] = '1'\n",
    "import os\n",
    "os.environ['PYVIRTUALDISPLAY_DISPLAYFD'] = '0'\n"
   ]
  },
  {
   "cell_type": "code",
   "execution_count": 2,
   "metadata": {},
   "outputs": [
    {
     "name": "stderr",
     "output_type": "stream",
     "text": [
      "2024-04-07 15:03:24.074662: I tensorflow/core/util/port.cc:113] oneDNN custom operations are on. You may see slightly different numerical results due to floating-point round-off errors from different computation orders. To turn them off, set the environment variable `TF_ENABLE_ONEDNN_OPTS=0`.\n",
      "2024-04-07 15:03:24.107112: E external/local_xla/xla/stream_executor/cuda/cuda_dnn.cc:9261] Unable to register cuDNN factory: Attempting to register factory for plugin cuDNN when one has already been registered\n",
      "2024-04-07 15:03:24.107193: E external/local_xla/xla/stream_executor/cuda/cuda_fft.cc:607] Unable to register cuFFT factory: Attempting to register factory for plugin cuFFT when one has already been registered\n",
      "2024-04-07 15:03:24.107962: E external/local_xla/xla/stream_executor/cuda/cuda_blas.cc:1515] Unable to register cuBLAS factory: Attempting to register factory for plugin cuBLAS when one has already been registered\n",
      "2024-04-07 15:03:24.115416: I tensorflow/core/platform/cpu_feature_guard.cc:182] This TensorFlow binary is optimized to use available CPU instructions in performance-critical operations.\n",
      "To enable the following instructions: AVX2 AVX_VNNI FMA, in other operations, rebuild TensorFlow with the appropriate compiler flags.\n",
      "2024-04-07 15:03:24.718837: W tensorflow/compiler/tf2tensorrt/utils/py_utils.cc:38] TF-TRT Warning: Could not find TensorRT\n"
     ]
    }
   ],
   "source": [
    "from __future__ import absolute_import, division, print_function\n",
    "\n",
    "import base64\n",
    "import imageio\n",
    "import IPython\n",
    "import matplotlib\n",
    "import matplotlib.pyplot as plt\n",
    "import numpy as np\n",
    "import PIL.Image\n",
    "import pyvirtualdisplay\n",
    "import reverb\n",
    "\n",
    "import tensorflow as tf\n",
    "\n",
    "from tf_agents.agents.dqn import dqn_agent\n",
    "from tf_agents.drivers import py_driver\n",
    "from tf_agents.environments import suite_gym\n",
    "from tf_agents.environments import tf_py_environment\n",
    "from tf_agents.eval import metric_utils\n",
    "from tf_agents.metrics import tf_metrics\n",
    "from tf_agents.networks import sequential\n",
    "from tf_agents.policies import py_tf_eager_policy\n",
    "from tf_agents.policies import random_tf_policy\n",
    "from tf_agents.replay_buffers import reverb_replay_buffer\n",
    "from tf_agents.replay_buffers import reverb_utils\n",
    "from tf_agents.trajectories import trajectory\n",
    "from tf_agents.specs import tensor_spec\n",
    "from tf_agents.utils import common"
   ]
  },
  {
   "cell_type": "code",
   "execution_count": 3,
   "metadata": {},
   "outputs": [],
   "source": [
    "display = pyvirtualdisplay.Display(visible=0, size=(1400, 900)).start()\n"
   ]
  },
  {
   "cell_type": "code",
   "execution_count": 4,
   "metadata": {},
   "outputs": [
    {
     "data": {
      "text/plain": [
       "'2.15.1'"
      ]
     },
     "execution_count": 4,
     "metadata": {},
     "output_type": "execute_result"
    }
   ],
   "source": [
    "tf.version.VERSION\n"
   ]
  },
  {
   "cell_type": "code",
   "execution_count": 5,
   "metadata": {},
   "outputs": [],
   "source": [
    "num_iterations = 20000 # @param {type:\"integer\"}\n",
    "\n",
    "initial_collect_steps = 100  # @param {type:\"integer\"}\n",
    "collect_steps_per_iteration =   1# @param {type:\"integer\"}\n",
    "replay_buffer_max_length = 100000  # @param {type:\"integer\"}\n",
    "\n",
    "batch_size = 64  # @param {type:\"integer\"}\n",
    "learning_rate = 1e-3  # @param {type:\"number\"}\n",
    "log_interval = 200  # @param {type:\"integer\"}\n",
    "\n",
    "num_eval_episodes = 10  # @param {type:\"integer\"}\n",
    "eval_interval = 1000  # @param {type:\"integer\"}\n"
   ]
  },
  {
   "cell_type": "code",
   "execution_count": 6,
   "metadata": {},
   "outputs": [],
   "source": [
    "env_name = 'CartPole-v0'\n",
    "env = suite_gym.load(env_name)\n"
   ]
  },
  {
   "cell_type": "code",
   "execution_count": 7,
   "metadata": {},
   "outputs": [
    {
     "data": {
      "image/jpeg": "[encoded data removed]",
      "image/png": "[encoded data removed]",
      "text/plain": [
       "<PIL.Image.Image image mode=RGB size=600x400>"
      ]
     },
     "execution_count": 7,
     "metadata": {},
     "output_type": "execute_result"
    }
   ],
   "source": [
    "env.reset()\n",
    "PIL.Image.fromarray(env.render())\n"
   ]
  },
  {
   "cell_type": "code",
   "execution_count": 8,
   "metadata": {},
   "outputs": [
    {
     "name": "stdout",
     "output_type": "stream",
     "text": [
      "Observation Spec:\n",
      "BoundedArraySpec(shape=(4,), dtype=dtype('float32'), name='observation', minimum=[-4.8000002e+00 -3.4028235e+38 -4.1887903e-01 -3.4028235e+38], maximum=[4.8000002e+00 3.4028235e+38 4.1887903e-01 3.4028235e+38])\n",
      "Reward Spec:\n",
      "ArraySpec(shape=(), dtype=dtype('float32'), name='reward')\n",
      "Action Spec:\n",
      "BoundedArraySpec(shape=(), dtype=dtype('int64'), name='action', minimum=0, maximum=1)\n"
     ]
    }
   ],
   "source": [
    "print('Observation Spec:')\n",
    "print(env.time_step_spec().observation)\n",
    "print('Reward Spec:')\n",
    "print(env.time_step_spec().reward)\n",
    "print('Action Spec:')\n",
    "print(env.action_spec())\n"
   ]
  },
  {
   "cell_type": "code",
   "execution_count": 9,
   "metadata": {},
   "outputs": [
    {
     "name": "stdout",
     "output_type": "stream",
     "text": [
      "Time step:\n",
      "TimeStep(\n",
      "{'step_type': array(0, dtype=int32),\n",
      " 'reward': array(0., dtype=float32),\n",
      " 'discount': array(1., dtype=float32),\n",
      " 'observation': array([-0.00998398,  0.01919768,  0.0427773 ,  0.04371807], dtype=float32)})\n",
      "Next time step:\n",
      "TimeStep(\n",
      "{'step_type': array(1, dtype=int32),\n",
      " 'reward': array(1., dtype=float32),\n",
      " 'discount': array(1., dtype=float32),\n",
      " 'observation': array([-0.00960003,  0.21368094,  0.04365166, -0.23516726], dtype=float32)})\n"
     ]
    }
   ],
   "source": [
    "time_step = env.reset()\n",
    "print('Time step:')\n",
    "print(time_step)\n",
    "\n",
    "action = np.array(1, dtype=np.int32)\n",
    "\n",
    "next_time_step = env.step(action)\n",
    "print('Next time step:')\n",
    "print(next_time_step)\n"
   ]
  },
  {
   "cell_type": "code",
   "execution_count": 10,
   "metadata": {},
   "outputs": [],
   "source": [
    "train_py_env = suite_gym.load(env_name)\n",
    "eval_py_env = suite_gym.load(env_name)\n"
   ]
  },
  {
   "cell_type": "code",
   "execution_count": 11,
   "metadata": {},
   "outputs": [],
   "source": [
    "train_env = tf_py_environment.TFPyEnvironment(train_py_env)\n",
    "eval_env = tf_py_environment.TFPyEnvironment(eval_py_env)\n"
   ]
  },
  {
   "cell_type": "code",
   "execution_count": 12,
   "metadata": {},
   "outputs": [],
   "source": [
    "fc_layer_params = (100, 50)\n",
    "action_tensor_spec = tensor_spec.from_spec(env.action_spec())\n",
    "num_actions = action_tensor_spec.maximum - action_tensor_spec.minimum + 1\n",
    "\n",
    "# Define a helper function to create Dense layers configured with the right\n",
    "# activation and kernel initializer.\n",
    "def dense_layer(num_units):\n",
    "  return tf.keras.layers.Dense(\n",
    "      num_units,\n",
    "      activation=tf.keras.activations.relu,\n",
    "      kernel_initializer=tf.keras.initializers.VarianceScaling(\n",
    "          scale=2.0, mode='fan_in', distribution='truncated_normal'))\n",
    "\n",
    "# QNetwork consists of a sequence of Dense layers followed by a dense layer\n",
    "# with `num_actions` units to generate one q_value per available action as\n",
    "# its output.\n",
    "dense_layers = [dense_layer(num_units) for num_units in fc_layer_params]\n",
    "q_values_layer = tf.keras.layers.Dense(\n",
    "    num_actions,\n",
    "    activation=None,\n",
    "    kernel_initializer=tf.keras.initializers.RandomUniform(\n",
    "        minval=-0.03, maxval=0.03),\n",
    "    bias_initializer=tf.keras.initializers.Constant(-0.2))\n",
    "q_net = sequential.Sequential(dense_layers + [q_values_layer])\n"
   ]
  },
  {
   "cell_type": "code",
   "execution_count": 13,
   "metadata": {},
   "outputs": [
    {
     "name": "stderr",
     "output_type": "stream",
     "text": [
      "2024-04-07 15:03:26.012806: I external/local_xla/xla/stream_executor/cuda/cuda_executor.cc:887] could not open file to read NUMA node: /sys/bus/pci/devices/0000:01:00.0/numa_node\n",
      "Your kernel may have been built without NUMA support.\n",
      "2024-04-07 15:03:26.046807: I external/local_xla/xla/stream_executor/cuda/cuda_executor.cc:887] could not open file to read NUMA node: /sys/bus/pci/devices/0000:01:00.0/numa_node\n",
      "Your kernel may have been built without NUMA support.\n",
      "2024-04-07 15:03:26.046860: I external/local_xla/xla/stream_executor/cuda/cuda_executor.cc:887] could not open file to read NUMA node: /sys/bus/pci/devices/0000:01:00.0/numa_node\n",
      "Your kernel may have been built without NUMA support.\n",
      "2024-04-07 15:03:26.051586: I external/local_xla/xla/stream_executor/cuda/cuda_executor.cc:887] could not open file to read NUMA node: /sys/bus/pci/devices/0000:01:00.0/numa_node\n",
      "Your kernel may have been built without NUMA support.\n",
      "2024-04-07 15:03:26.051644: I external/local_xla/xla/stream_executor/cuda/cuda_executor.cc:887] could not open file to read NUMA node: /sys/bus/pci/devices/0000:01:00.0/numa_node\n",
      "Your kernel may have been built without NUMA support.\n",
      "2024-04-07 15:03:26.051663: I external/local_xla/xla/stream_executor/cuda/cuda_executor.cc:887] could not open file to read NUMA node: /sys/bus/pci/devices/0000:01:00.0/numa_node\n",
      "Your kernel may have been built without NUMA support.\n",
      "2024-04-07 15:03:26.151799: I external/local_xla/xla/stream_executor/cuda/cuda_executor.cc:887] could not open file to read NUMA node: /sys/bus/pci/devices/0000:01:00.0/numa_node\n",
      "Your kernel may have been built without NUMA support.\n",
      "2024-04-07 15:03:26.151860: I external/local_xla/xla/stream_executor/cuda/cuda_executor.cc:887] could not open file to read NUMA node: /sys/bus/pci/devices/0000:01:00.0/numa_node\n",
      "Your kernel may have been built without NUMA support.\n",
      "2024-04-07 15:03:26.151866: I tensorflow/core/common_runtime/gpu/gpu_device.cc:2022] Could not identify NUMA node of platform GPU id 0, defaulting to 0.  Your kernel may not have been built with NUMA support.\n",
      "2024-04-07 15:03:26.151891: I external/local_xla/xla/stream_executor/cuda/cuda_executor.cc:887] could not open file to read NUMA node: /sys/bus/pci/devices/0000:01:00.0/numa_node\n",
      "Your kernel may have been built without NUMA support.\n",
      "2024-04-07 15:03:26.151906: I tensorflow/core/common_runtime/gpu/gpu_device.cc:1929] Created device /job:localhost/replica:0/task:0/device:GPU:0 with 1767 MB memory:  -> device: 0, name: NVIDIA GeForce RTX 3050 Laptop GPU, pci bus id: 0000:01:00.0, compute capability: 8.6\n",
      "2024-04-07 15:03:26.381344: I external/local_tsl/tsl/platform/default/subprocess.cc:304] Start cannot spawn child process: No such file or directory\n"
     ]
    }
   ],
   "source": [
    "optimizer = tf.keras.optimizers.Adam(learning_rate=learning_rate)\n",
    "\n",
    "train_step_counter = tf.Variable(0)\n",
    "\n",
    "agent = dqn_agent.DqnAgent(\n",
    "    train_env.time_step_spec(),\n",
    "    train_env.action_spec(),\n",
    "    q_network=q_net,\n",
    "    optimizer=optimizer,\n",
    "    td_errors_loss_fn=common.element_wise_squared_loss,\n",
    "    train_step_counter=train_step_counter)\n",
    "\n",
    "agent.initialize()\n"
   ]
  },
  {
   "cell_type": "code",
   "execution_count": 14,
   "metadata": {},
   "outputs": [],
   "source": [
    "eval_policy = agent.policy\n",
    "collect_policy = agent.collect_policy\n",
    "random_policy = random_tf_policy.RandomTFPolicy(train_env.time_step_spec(),\n",
    "                                                train_env.action_spec())\n"
   ]
  },
  {
   "cell_type": "code",
   "execution_count": 15,
   "metadata": {},
   "outputs": [
    {
     "data": {
      "text/plain": [
       "PolicyStep(action=<tf.Tensor: shape=(1,), dtype=int64, numpy=array([1])>, state=(), info=())"
      ]
     },
     "execution_count": 15,
     "metadata": {},
     "output_type": "execute_result"
    }
   ],
   "source": [
    "example_environment = tf_py_environment.TFPyEnvironment(\n",
    "    suite_gym.load('CartPole-v0'))\n",
    "time_step = example_environment.reset()\n",
    "random_policy.action(time_step)\n"
   ]
  },
  {
   "cell_type": "code",
   "execution_count": 16,
   "metadata": {},
   "outputs": [],
   "source": [
    "def compute_avg_return(environment, policy, num_episodes=10):\n",
    "\n",
    "  total_return = 0.0\n",
    "  for _ in range(num_episodes):\n",
    "\n",
    "    time_step = environment.reset()\n",
    "    episode_return = 0.0\n",
    "\n",
    "    while not time_step.is_last():\n",
    "      action_step = policy.action(time_step)\n",
    "      time_step = environment.step(action_step.action)\n",
    "      episode_return += time_step.reward\n",
    "    total_return += episode_return\n",
    "\n",
    "  avg_return = total_return / num_episodes\n",
    "  return avg_return.numpy()[0]\n",
    "\n",
    "\n",
    "# See also the metrics module for standard implementations of different metrics.\n",
    "# https://github.com/tensorflow/agents/tree/master/tf_agents/metrics\n"
   ]
  },
  {
   "cell_type": "code",
   "execution_count": 17,
   "metadata": {},
   "outputs": [
    {
     "data": {
      "text/plain": [
       "22.7"
      ]
     },
     "execution_count": 17,
     "metadata": {},
     "output_type": "execute_result"
    }
   ],
   "source": [
    "compute_avg_return(eval_env, random_policy, num_eval_episodes)\n"
   ]
  },
  {
   "cell_type": "code",
   "execution_count": 18,
   "metadata": {},
   "outputs": [
    {
     "name": "stderr",
     "output_type": "stream",
     "text": [
      "[reverb/cc/platform/tfrecord_checkpointer.cc:162]  Initializing TFRecordCheckpointer in /tmp/tmp6w5j_vtc.\n",
      "[reverb/cc/platform/tfrecord_checkpointer.cc:565] Loading latest checkpoint from /tmp/tmp6w5j_vtc\n",
      "[reverb/cc/platform/default/server.cc:71] Started replay server on port 46317\n"
     ]
    }
   ],
   "source": [
    "table_name = 'uniform_table'\n",
    "replay_buffer_signature = tensor_spec.from_spec(\n",
    "      agent.collect_data_spec)\n",
    "replay_buffer_signature = tensor_spec.add_outer_dim(\n",
    "    replay_buffer_signature)\n",
    "\n",
    "table = reverb.Table(\n",
    "    table_name,\n",
    "    max_size=replay_buffer_max_length,\n",
    "    sampler=reverb.selectors.Uniform(),\n",
    "    remover=reverb.selectors.Fifo(),\n",
    "    rate_limiter=reverb.rate_limiters.MinSize(1),\n",
    "    signature=replay_buffer_signature)\n",
    "\n",
    "reverb_server = reverb.Server([table])\n",
    "\n",
    "replay_buffer = reverb_replay_buffer.ReverbReplayBuffer(\n",
    "    agent.collect_data_spec,\n",
    "    table_name=table_name,\n",
    "    sequence_length=2,\n",
    "    local_server=reverb_server)\n",
    "\n",
    "rb_observer = reverb_utils.ReverbAddTrajectoryObserver(\n",
    "  replay_buffer.py_client,\n",
    "  table_name,\n",
    "  sequence_length=2)\n"
   ]
  },
  {
   "cell_type": "code",
   "execution_count": 19,
   "metadata": {},
   "outputs": [
    {
     "data": {
      "text/plain": [
       "Trajectory(\n",
       "{'step_type': TensorSpec(shape=(), dtype=tf.int32, name='step_type'),\n",
       " 'observation': BoundedTensorSpec(shape=(4,), dtype=tf.float32, name='observation', minimum=array([-4.8000002e+00, -3.4028235e+38, -4.1887903e-01, -3.4028235e+38],\n",
       "      dtype=float32), maximum=array([4.8000002e+00, 3.4028235e+38, 4.1887903e-01, 3.4028235e+38],\n",
       "      dtype=float32)),\n",
       " 'action': BoundedTensorSpec(shape=(), dtype=tf.int64, name='action', minimum=array(0), maximum=array(1)),\n",
       " 'policy_info': (),\n",
       " 'next_step_type': TensorSpec(shape=(), dtype=tf.int32, name='step_type'),\n",
       " 'reward': TensorSpec(shape=(), dtype=tf.float32, name='reward'),\n",
       " 'discount': BoundedTensorSpec(shape=(), dtype=tf.float32, name='discount', minimum=array(0., dtype=float32), maximum=array(1., dtype=float32))})"
      ]
     },
     "execution_count": 19,
     "metadata": {},
     "output_type": "execute_result"
    }
   ],
   "source": [
    "agent.collect_data_spec\n"
   ]
  },
  {
   "cell_type": "code",
   "execution_count": 20,
   "metadata": {},
   "outputs": [
    {
     "data": {
      "text/plain": [
       "('step_type',\n",
       " 'observation',\n",
       " 'action',\n",
       " 'policy_info',\n",
       " 'next_step_type',\n",
       " 'reward',\n",
       " 'discount')"
      ]
     },
     "execution_count": 20,
     "metadata": {},
     "output_type": "execute_result"
    }
   ],
   "source": [
    "agent.collect_data_spec._fields\n"
   ]
  },
  {
   "cell_type": "code",
   "execution_count": 21,
   "metadata": {},
   "outputs": [
    {
     "data": {
      "text/plain": [
       "(TimeStep(\n",
       " {'step_type': array(1, dtype=int32),\n",
       "  'reward': array(1., dtype=float32),\n",
       "  'discount': array(1., dtype=float32),\n",
       "  'observation': array([ 0.0984876 ,  0.37752202, -0.1401656 , -0.7647675 ], dtype=float32)}),\n",
       " ())"
      ]
     },
     "execution_count": 21,
     "metadata": {},
     "output_type": "execute_result"
    }
   ],
   "source": [
    "py_driver.PyDriver(\n",
    "    env,\n",
    "    py_tf_eager_policy.PyTFEagerPolicy(\n",
    "      random_policy, use_tf_function=True),\n",
    "    [rb_observer],\n",
    "    max_steps=initial_collect_steps).run(train_py_env.reset())\n"
   ]
  },
  {
   "cell_type": "code",
   "execution_count": 22,
   "metadata": {},
   "outputs": [
    {
     "data": {
      "text/plain": [
       "<_PrefetchDataset element_spec=(Trajectory(\n",
       "{'step_type': TensorSpec(shape=(64, 2), dtype=tf.int32, name=None),\n",
       " 'observation': TensorSpec(shape=(64, 2, 4), dtype=tf.float32, name=None),\n",
       " 'action': TensorSpec(shape=(64, 2), dtype=tf.int64, name=None),\n",
       " 'policy_info': (),\n",
       " 'next_step_type': TensorSpec(shape=(64, 2), dtype=tf.int32, name=None),\n",
       " 'reward': TensorSpec(shape=(64, 2), dtype=tf.float32, name=None),\n",
       " 'discount': TensorSpec(shape=(64, 2), dtype=tf.float32, name=None)}), SampleInfo(key=TensorSpec(shape=(64, 2), dtype=tf.uint64, name=None), probability=TensorSpec(shape=(64, 2), dtype=tf.float64, name=None), table_size=TensorSpec(shape=(64, 2), dtype=tf.int64, name=None), priority=TensorSpec(shape=(64, 2), dtype=tf.float64, name=None), times_sampled=TensorSpec(shape=(64, 2), dtype=tf.int32, name=None)))>"
      ]
     },
     "execution_count": 22,
     "metadata": {},
     "output_type": "execute_result"
    }
   ],
   "source": [
    "# Dataset generates trajectories with shape [Bx2x...]\n",
    "dataset = replay_buffer.as_dataset(\n",
    "    num_parallel_calls=3,\n",
    "    sample_batch_size=batch_size,\n",
    "    num_steps=2).prefetch(3)\n",
    "\n",
    "dataset\n"
   ]
  },
  {
   "cell_type": "code",
   "execution_count": 23,
   "metadata": {},
   "outputs": [
    {
     "name": "stdout",
     "output_type": "stream",
     "text": [
      "<tensorflow.python.data.ops.iterator_ops.OwnedIterator object at 0x7fab8f91b310>\n"
     ]
    }
   ],
   "source": [
    "iterator = iter(dataset)\n",
    "print(iterator)\n"
   ]
  },
  {
   "cell_type": "code",
   "execution_count": 24,
   "metadata": {},
   "outputs": [
    {
     "name": "stdout",
     "output_type": "stream",
     "text": [
      "WARNING:tensorflow:From /usr/local/lib/python3.10/dist-packages/tensorflow/python/util/dispatch.py:1260: calling foldr_v2 (from tensorflow.python.ops.functional_ops) with back_prop=False is deprecated and will be removed in a future version.\n",
      "Instructions for updating:\n",
      "back_prop=False is deprecated. Consider using tf.stop_gradient instead.\n",
      "Instead of:\n",
      "results = tf.foldr(fn, elems, back_prop=False)\n",
      "Use:\n",
      "results = tf.nest.map_structure(tf.stop_gradient, tf.foldr(fn, elems))\n"
     ]
    },
    {
     "name": "stderr",
     "output_type": "stream",
     "text": [
      "[reverb/cc/client.cc:165] Sampler and server are owned by the same process (405180) so Table uniform_table is accessed directly without gRPC.\n",
      "[reverb/cc/client.cc:165] Sampler and server are owned by the same process (405180) so Table uniform_table is accessed directly without gRPC.\n",
      "[reverb/cc/client.cc:165] Sampler and server are owned by the same process (405180) so Table uniform_table is accessed directly without gRPC.\n",
      "[reverb/cc/client.cc:165] Sampler and server are owned by the same process (405180) so Table uniform_table is accessed directly without gRPC.\n",
      "[reverb/cc/client.cc:165] Sampler and server are owned by the same process (405180) so Table uniform_table is accessed directly without gRPC.\n",
      "[reverb/cc/client.cc:165] Sampler and server are owned by the same process (405180) so Table uniform_table is accessed directly without gRPC.\n",
      "2024-04-07 15:07:02.488926: I external/local_xla/xla/service/service.cc:168] XLA service 0x7faa4c20e830 initialized for platform CUDA (this does not guarantee that XLA will be used). Devices:\n",
      "2024-04-07 15:07:02.488968: I external/local_xla/xla/service/service.cc:176]   StreamExecutor device (0): NVIDIA GeForce RTX 3050 Laptop GPU, Compute Capability 8.6\n",
      "2024-04-07 15:07:02.500051: I tensorflow/compiler/mlir/tensorflow/utils/dump_mlir_util.cc:269] disabling MLIR crash reproducer, set env var `MLIR_CRASH_REPRODUCER_DIRECTORY` to enable.\n",
      "2024-04-07 15:07:02.537458: I external/local_xla/xla/stream_executor/cuda/cuda_dnn.cc:454] Loaded cuDNN version 8904\n",
      "WARNING: All log messages before absl::InitializeLog() is called are written to STDERR\n",
      "I0000 00:00:1712482622.603258  405296 device_compiler.h:186] Compiled cluster using XLA!  This line is logged at most once for the lifetime of the process.\n"
     ]
    },
    {
     "name": "stdout",
     "output_type": "stream",
     "text": [
      "step = 200: loss = 26.518783569335938\n",
      "step = 400: loss = 18.981246948242188\n",
      "step = 600: loss = 128.36273193359375\n",
      "step = 800: loss = 17.12343978881836\n",
      "step = 1000: loss = 15.037732124328613\n",
      "step = 1000: Average Return = 117.30000305175781\n",
      "step = 1200: loss = 130.9974365234375\n",
      "step = 1400: loss = 1212.3201904296875\n",
      "step = 1600: loss = 39.48508071899414\n",
      "step = 1800: loss = 96.6206283569336\n",
      "step = 2000: loss = 15.066208839416504\n",
      "step = 2000: Average Return = 191.8000030517578\n",
      "step = 2200: loss = 19.351627349853516\n",
      "step = 2400: loss = 1029.9332275390625\n",
      "step = 2600: loss = 104.63630676269531\n",
      "step = 2800: loss = 57.696231842041016\n",
      "step = 3000: loss = 182.16903686523438\n",
      "step = 3000: Average Return = 165.60000610351562\n",
      "step = 3200: loss = 80.94483947753906\n",
      "step = 3400: loss = 51.411434173583984\n",
      "step = 3600: loss = 832.75146484375\n",
      "step = 3800: loss = 103.17930603027344\n",
      "step = 4000: loss = 131.71633911132812\n",
      "step = 4000: Average Return = 177.6999969482422\n",
      "step = 4200: loss = 58.276222229003906\n",
      "step = 4400: loss = 6371.22802734375\n",
      "step = 4600: loss = 108.49526977539062\n",
      "step = 4800: loss = 151.778564453125\n",
      "step = 5000: loss = 161.74148559570312\n",
      "step = 5000: Average Return = 162.1999969482422\n",
      "step = 5200: loss = 111.78343963623047\n",
      "step = 5400: loss = 86.66465759277344\n",
      "step = 5600: loss = 125.67587280273438\n",
      "step = 5800: loss = 60.82911682128906\n",
      "step = 6000: loss = 57.592529296875\n",
      "step = 6000: Average Return = 151.3000030517578\n",
      "step = 6200: loss = 99.546142578125\n",
      "step = 6400: loss = 40.36330032348633\n",
      "step = 6600: loss = 51.51036834716797\n",
      "step = 6800: loss = 109.5951919555664\n",
      "step = 7000: loss = 36.53982162475586\n",
      "step = 7000: Average Return = 193.10000610351562\n",
      "step = 7200: loss = 128.9795684814453\n",
      "step = 7400: loss = 48.1798095703125\n",
      "step = 7600: loss = 165.91415405273438\n",
      "step = 7800: loss = 33.62162780761719\n",
      "step = 8000: loss = 48.93276596069336\n",
      "step = 8000: Average Return = 200.0\n",
      "step = 8200: loss = 1012.29248046875\n",
      "step = 8400: loss = 55.025917053222656\n",
      "step = 8600: loss = 41.9549560546875\n",
      "step = 8800: loss = 72.41908264160156\n",
      "step = 9000: loss = 219.04165649414062\n",
      "step = 9000: Average Return = 200.0\n",
      "step = 9200: loss = 89.98617553710938\n",
      "step = 9400: loss = 59.27511978149414\n",
      "step = 9600: loss = 5603.85107421875\n",
      "step = 9800: loss = 10654.2763671875\n",
      "step = 10000: loss = 193.9551239013672\n",
      "step = 10000: Average Return = 200.0\n",
      "step = 10200: loss = 3028.822998046875\n",
      "step = 10400: loss = 252.49053955078125\n",
      "step = 10600: loss = 148.95484924316406\n",
      "step = 10800: loss = 194.1905517578125\n",
      "step = 11000: loss = 221.0153350830078\n",
      "step = 11000: Average Return = 200.0\n",
      "step = 11200: loss = 224.4238739013672\n",
      "step = 11400: loss = 159.74093627929688\n",
      "step = 11600: loss = 207.71665954589844\n",
      "step = 11800: loss = 141.7915496826172\n",
      "step = 12000: loss = 278.9394836425781\n",
      "step = 12000: Average Return = 200.0\n",
      "step = 12200: loss = 310.2258605957031\n",
      "step = 12400: loss = 108.52793884277344\n",
      "step = 12600: loss = 134.47377014160156\n",
      "step = 12800: loss = 410.6751708984375\n",
      "step = 13000: loss = 142.16455078125\n",
      "step = 13000: Average Return = 200.0\n",
      "step = 13200: loss = 304.67205810546875\n",
      "step = 13400: loss = 332.95703125\n",
      "step = 13600: loss = 8045.328125\n",
      "step = 13800: loss = 276.0773010253906\n",
      "step = 14000: loss = 20829.919921875\n",
      "step = 14000: Average Return = 200.0\n",
      "step = 14200: loss = 162.48684692382812\n",
      "step = 14400: loss = 13807.361328125\n",
      "step = 14600: loss = 13033.1044921875\n",
      "step = 14800: loss = 490.9383544921875\n",
      "step = 15000: loss = 333.2525634765625\n",
      "step = 15000: Average Return = 200.0\n",
      "step = 15200: loss = 336.9629211425781\n",
      "step = 15400: loss = 572.6489868164062\n",
      "step = 15600: loss = 167.961669921875\n",
      "step = 15800: loss = 320.986083984375\n",
      "step = 16000: loss = 234.10708618164062\n",
      "step = 16000: Average Return = 200.0\n",
      "step = 16200: loss = 436.1049499511719\n",
      "step = 16400: loss = 437.12249755859375\n",
      "step = 16600: loss = 510.2071838378906\n",
      "step = 16800: loss = 734.3338012695312\n",
      "step = 17000: loss = 571.2919311523438\n",
      "step = 17000: Average Return = 200.0\n",
      "step = 17200: loss = 564.2496948242188\n",
      "step = 17400: loss = 361.85675048828125\n",
      "step = 17600: loss = 68983.953125\n",
      "step = 17800: loss = 77879.5078125\n",
      "step = 18000: loss = 54373.9453125\n",
      "step = 18000: Average Return = 200.0\n",
      "step = 18200: loss = 243.0559539794922\n",
      "step = 18400: loss = 566.4945678710938\n",
      "step = 18600: loss = 753.5260009765625\n",
      "step = 18800: loss = 532.6199951171875\n",
      "step = 19000: loss = 449.211181640625\n",
      "step = 19000: Average Return = 200.0\n",
      "step = 19200: loss = 611.7940063476562\n",
      "step = 19400: loss = 329.3170471191406\n",
      "step = 19600: loss = 425.81805419921875\n",
      "step = 19800: loss = 87146.453125\n",
      "step = 20000: loss = 43562.1171875\n",
      "step = 20000: Average Return = 200.0\n"
     ]
    }
   ],
   "source": [
    "try:\n",
    "  %%time\n",
    "except:\n",
    "  pass\n",
    "\n",
    "# (Optional) Optimize by wrapping some of the code in a graph using TF function.\n",
    "agent.train = common.function(agent.train)\n",
    "\n",
    "# Reset the train step.\n",
    "agent.train_step_counter.assign(0)\n",
    "\n",
    "# Evaluate the agent's policy once before training.\n",
    "avg_return = compute_avg_return(eval_env, agent.policy, num_eval_episodes)\n",
    "returns = [avg_return]\n",
    "\n",
    "# Reset the environment.\n",
    "time_step = train_py_env.reset()\n",
    "\n",
    "# Create a driver to collect experience.\n",
    "collect_driver = py_driver.PyDriver(\n",
    "    env,\n",
    "    py_tf_eager_policy.PyTFEagerPolicy(\n",
    "      agent.collect_policy, use_tf_function=True),\n",
    "    [rb_observer],\n",
    "    max_steps=collect_steps_per_iteration)\n",
    "\n",
    "for _ in range(num_iterations):\n",
    "\n",
    "  # Collect a few steps and save to the replay buffer.\n",
    "  time_step, _ = collect_driver.run(time_step)\n",
    "\n",
    "  # Sample a batch of data from the buffer and update the agent's network.\n",
    "  experience, unused_info = next(iterator)\n",
    "  train_loss = agent.train(experience).loss\n",
    "\n",
    "  step = agent.train_step_counter.numpy()\n",
    "\n",
    "  if step % log_interval == 0:\n",
    "    print('step = {0}: loss = {1}'.format(step, train_loss))\n",
    "\n",
    "  if step % eval_interval == 0:\n",
    "    avg_return = compute_avg_return(eval_env, agent.policy, num_eval_episodes)\n",
    "    print('step = {0}: Average Return = {1}'.format(step, avg_return))\n",
    "    returns.append(avg_return)\n"
   ]
  },
  {
   "cell_type": "code",
   "execution_count": 25,
   "metadata": {},
   "outputs": [
    {
     "data": {
      "text/plain": [
       "(46.27999839782715, 250.0)"
      ]
     },
     "execution_count": 25,
     "metadata": {},
     "output_type": "execute_result"
    },
    {
     "data": {
      "image/png": "[encoded data removed]",
      "text/plain": [
       "<Figure size 640x480 with 1 Axes>"
      ]
     },
     "metadata": {},
     "output_type": "display_data"
    }
   ],
   "source": [
    "iterations = range(0, num_iterations + 1, eval_interval)\n",
    "plt.plot(iterations, returns)\n",
    "plt.ylabel('Average Return')\n",
    "plt.xlabel('Iterations')\n",
    "plt.ylim(top=250)\n"
   ]
  },
  {
   "cell_type": "code",
   "execution_count": 26,
   "metadata": {},
   "outputs": [],
   "source": [
    "def embed_mp4(filename):\n",
    "  \"\"\"Embeds an mp4 file in the notebook.\"\"\"\n",
    "  video = open(filename,'rb').read()\n",
    "  b64 = base64.b64encode(video)\n",
    "  tag = '''\n",
    "  <video width=\"640\" height=\"480\" controls>\n",
    "    <source src=\"data:video/mp4;base64,{0}\" type=\"video/mp4\">\n",
    "  Your browser does not support the video tag.\n",
    "  </video>'''.format(b64.decode())\n",
    "\n",
    "  return IPython.display.HTML(tag)\n"
   ]
  },
  {
   "cell_type": "code",
   "execution_count": 27,
   "metadata": {},
   "outputs": [
    {
     "name": "stderr",
     "output_type": "stream",
     "text": [
      "WARNING:root:IMAGEIO FFMPEG_WRITER WARNING: input image is not divisible by macro_block_size=16, resizing from (400, 600) to (400, 608) to ensure video compatibility with most codecs and players. To prevent resizing, make your input image divisible by the macro_block_size or set the macro_block_size to None (risking incompatibility). You may also see a FFMPEG warning concerning speedloss due to data not being aligned.\n",
      "[swscaler @ 0x55bdacb335c0] Warning: data is not aligned! This can lead to a speed loss\n"
     ]
    },
    {
     "data": {
      "text/html": [
       "\n",
       "  <video width=\"640\" height=\"480\" controls>\n",
       "    <source src=\"data:video/mp4;base64,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\" type=\"video/mp4\">\n",
       "  Your browser does not support the video tag.\n",
       "  </video>"
      ],
      "text/plain": [
       "<IPython.core.display.HTML object>"
      ]
     },
     "execution_count": 27,
     "metadata": {},
     "output_type": "execute_result"
    }
   ],
   "source": [
    "def create_policy_eval_video(policy, filename, num_episodes=5, fps=30):\n",
    "  filename = filename + \".mp4\"\n",
    "  with imageio.get_writer(filename, fps=fps) as video:\n",
    "    for _ in range(num_episodes):\n",
    "      time_step = eval_env.reset()\n",
    "      video.append_data(eval_py_env.render())\n",
    "      while not time_step.is_last():\n",
    "        action_step = policy.action(time_step)\n",
    "        time_step = eval_env.step(action_step.action)\n",
    "        video.append_data(eval_py_env.render())\n",
    "  return embed_mp4(filename)\n",
    "\n",
    "create_policy_eval_video(agent.policy, \"trained-agent\")\n"
   ]
  },
  {
   "cell_type": "code",
   "execution_count": 28,
   "metadata": {},
   "outputs": [
    {
     "name": "stderr",
     "output_type": "stream",
     "text": [
      "WARNING:root:IMAGEIO FFMPEG_WRITER WARNING: input image is not divisible by macro_block_size=16, resizing from (400, 600) to (400, 608) to ensure video compatibility with most codecs and players. To prevent resizing, make your input image divisible by the macro_block_size or set the macro_block_size to None (risking incompatibility). You may also see a FFMPEG warning concerning speedloss due to data not being aligned.\n",
      "[swscaler @ 0x5602a18955c0] Warning: data is not aligned! This can lead to a speed loss\n"
     ]
    },
    {
     "data": {
      "text/html": [
       "\n",
       "  <video width=\"640\" height=\"480\" controls>\n",
       "    <source src=\"data:video/mp4;base64,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\" type=\"video/mp4\">\n",
       "  Your browser does not support the video tag.\n",
       "  </video>"
      ],
      "text/plain": [
       "<IPython.core.display.HTML object>"
      ]
     },
     "execution_count": 28,
     "metadata": {},
     "output_type": "execute_result"
    }
   ],
   "source": [
    "create_policy_eval_video(random_policy, \"random-agent\")\n"
   ]
  }
 ],
 "metadata": {
  "kernelspec": {
   "display_name": "Python 3",
   "language": "python",
   "name": "python3"
  },
  "language_info": {
   "codemirror_mode": {
    "name": "ipython",
    "version": 3
   },
   "file_extension": ".py",
   "mimetype": "text/x-python",
   "name": "python",
   "nbconvert_exporter": "python",
   "pygments_lexer": "ipython3",
   "version": "3.10.12"
  }
 },
 "nbformat": 4,
 "nbformat_minor": 2
}
