{
 "cells": [
  {
   "cell_type": "code",
   "execution_count": 1,
   "metadata": {},
   "outputs": [],
   "source": [
    "import os\n",
    "# Keep using keras-2 (tf-keras) rather than keras-3 (keras).\n",
    "os.environ['TF_USE_LEGACY_KERAS'] = '1'\n",
    "import os\n",
    "os.environ['PYVIRTUALDISPLAY_DISPLAYFD'] = '0'\n"
   ]
  },
  {
   "cell_type": "code",
   "execution_count": 2,
   "metadata": {},
   "outputs": [
    {
     "name": "stderr",
     "output_type": "stream",
     "text": [
      "2024-04-07 16:01:03.000209: I tensorflow/core/util/port.cc:113] oneDNN custom operations are on. You may see slightly different numerical results due to floating-point round-off errors from different computation orders. To turn them off, set the environment variable `TF_ENABLE_ONEDNN_OPTS=0`.\n",
      "2024-04-07 16:01:03.151950: E external/local_xla/xla/stream_executor/cuda/cuda_dnn.cc:9261] Unable to register cuDNN factory: Attempting to register factory for plugin cuDNN when one has already been registered\n",
      "2024-04-07 16:01:03.151982: E external/local_xla/xla/stream_executor/cuda/cuda_fft.cc:607] Unable to register cuFFT factory: Attempting to register factory for plugin cuFFT when one has already been registered\n",
      "2024-04-07 16:01:03.154801: E external/local_xla/xla/stream_executor/cuda/cuda_blas.cc:1515] Unable to register cuBLAS factory: Attempting to register factory for plugin cuBLAS when one has already been registered\n",
      "2024-04-07 16:01:03.174187: I tensorflow/core/platform/cpu_feature_guard.cc:182] This TensorFlow binary is optimized to use available CPU instructions in performance-critical operations.\n",
      "To enable the following instructions: AVX2 AVX_VNNI FMA, in other operations, rebuild TensorFlow with the appropriate compiler flags.\n",
      "2024-04-07 16:01:04.251811: W tensorflow/compiler/tf2tensorrt/utils/py_utils.cc:38] TF-TRT Warning: Could not find TensorRT\n"
     ]
    }
   ],
   "source": [
    "from __future__ import absolute_import\n",
    "from __future__ import division\n",
    "from __future__ import print_function\n",
    "\n",
    "import base64\n",
    "import imageio\n",
    "import IPython\n",
    "import matplotlib.pyplot as plt\n",
    "import numpy as np\n",
    "import PIL.Image\n",
    "import pyvirtualdisplay\n",
    "import reverb\n",
    "\n",
    "import tensorflow as tf\n",
    "\n",
    "from tf_agents.agents.reinforce import reinforce_agent\n",
    "from tf_agents.drivers import py_driver\n",
    "from tf_agents.environments import suite_gym\n",
    "from tf_agents.environments import tf_py_environment\n",
    "from tf_agents.networks import actor_distribution_network\n",
    "from tf_agents.policies import py_tf_eager_policy\n",
    "from tf_agents.replay_buffers import reverb_replay_buffer\n",
    "from tf_agents.replay_buffers import reverb_utils\n",
    "from tf_agents.specs import tensor_spec\n",
    "from tf_agents.trajectories import trajectory\n",
    "from tf_agents.utils import common\n",
    "\n",
    "# Set up a virtual display for rendering OpenAI gym environments.\n",
    "display = pyvirtualdisplay.Display(visible=0, size=(1400, 900)).start()\n"
   ]
  },
  {
   "cell_type": "code",
   "execution_count": 3,
   "metadata": {},
   "outputs": [],
   "source": [
    "env_name = \"CartPole-v0\" # @param {type:\"string\"}\n",
    "num_iterations = 250 # @param {type:\"integer\"}\n",
    "collect_episodes_per_iteration = 2 # @param {type:\"integer\"}\n",
    "replay_buffer_capacity = 2000 # @param {type:\"integer\"}\n",
    "\n",
    "fc_layer_params = (100,)\n",
    "\n",
    "learning_rate = 1e-3 # @param {type:\"number\"}\n",
    "log_interval = 25 # @param {type:\"integer\"}\n",
    "num_eval_episodes = 10 # @param {type:\"integer\"}\n",
    "eval_interval = 50 # @param {type:\"integer\"}\n"
   ]
  },
  {
   "cell_type": "code",
   "execution_count": 4,
   "metadata": {},
   "outputs": [
    {
     "name": "stderr",
     "output_type": "stream",
     "text": [
      "ALSA lib confmisc.c:855:(parse_card) cannot find card '0'\n",
      "ALSA lib conf.c:5178:(_snd_config_evaluate) function snd_func_card_inum returned error: No such file or directory\n",
      "ALSA lib confmisc.c:422:(snd_func_concat) error evaluating strings\n",
      "ALSA lib conf.c:5178:(_snd_config_evaluate) function snd_func_concat returned error: No such file or directory\n",
      "ALSA lib confmisc.c:1334:(snd_func_refer) error evaluating name\n",
      "ALSA lib conf.c:5178:(_snd_config_evaluate) function snd_func_refer returned error: No such file or directory\n",
      "ALSA lib conf.c:5701:(snd_config_expand) Evaluate error: No such file or directory\n",
      "ALSA lib pcm.c:2664:(snd_pcm_open_noupdate) Unknown PCM default\n"
     ]
    },
    {
     "data": {
      "image/jpeg": "[encoded data removed]",
      "image/png": "[encoded data removed]",
      "text/plain": [
       "<PIL.Image.Image image mode=RGB size=600x400>"
      ]
     },
     "execution_count": 4,
     "metadata": {},
     "output_type": "execute_result"
    }
   ],
   "source": [
    "env = suite_gym.load(env_name)\n",
    "env.reset()\n",
    "PIL.Image.fromarray(env.render())\n"
   ]
  },
  {
   "cell_type": "code",
   "execution_count": 5,
   "metadata": {},
   "outputs": [
    {
     "name": "stdout",
     "output_type": "stream",
     "text": [
      "Observation Spec:\n",
      "BoundedArraySpec(shape=(4,), dtype=dtype('float32'), name='observation', minimum=[-4.8000002e+00 -3.4028235e+38 -4.1887903e-01 -3.4028235e+38], maximum=[4.8000002e+00 3.4028235e+38 4.1887903e-01 3.4028235e+38])\n",
      "Action Spec:\n",
      "BoundedArraySpec(shape=(), dtype=dtype('int64'), name='action', minimum=0, maximum=1)\n"
     ]
    }
   ],
   "source": [
    "print('Observation Spec:')\n",
    "print(env.time_step_spec().observation)\n",
    "print('Action Spec:')\n",
    "print(env.action_spec())\n"
   ]
  },
  {
   "cell_type": "code",
   "execution_count": 6,
   "metadata": {},
   "outputs": [
    {
     "name": "stdout",
     "output_type": "stream",
     "text": [
      "Time step:\n",
      "TimeStep(\n",
      "{'step_type': array(0, dtype=int32),\n",
      " 'reward': array(0., dtype=float32),\n",
      " 'discount': array(1., dtype=float32),\n",
      " 'observation': array([ 0.03023775, -0.00193549,  0.02811389,  0.01024478], dtype=float32)})\n",
      "Next time step:\n",
      "TimeStep(\n",
      "{'step_type': array(1, dtype=int32),\n",
      " 'reward': array(1., dtype=float32),\n",
      " 'discount': array(1., dtype=float32),\n",
      " 'observation': array([ 0.03019904,  0.19277222,  0.02831879, -0.27343696], dtype=float32)})\n"
     ]
    }
   ],
   "source": [
    "time_step = env.reset()\n",
    "print('Time step:')\n",
    "print(time_step)\n",
    "\n",
    "action = np.array(1, dtype=np.int32)\n",
    "\n",
    "next_time_step = env.step(action)\n",
    "print('Next time step:')\n",
    "print(next_time_step)\n"
   ]
  },
  {
   "cell_type": "code",
   "execution_count": 7,
   "metadata": {},
   "outputs": [],
   "source": [
    "train_py_env = suite_gym.load(env_name)\n",
    "eval_py_env = suite_gym.load(env_name)\n",
    "\n",
    "train_env = tf_py_environment.TFPyEnvironment(train_py_env)\n",
    "eval_env = tf_py_environment.TFPyEnvironment(eval_py_env)\n"
   ]
  },
  {
   "cell_type": "code",
   "execution_count": 8,
   "metadata": {},
   "outputs": [],
   "source": [
    "actor_net = actor_distribution_network.ActorDistributionNetwork(\n",
    "    train_env.observation_spec(),\n",
    "    train_env.action_spec(),\n",
    "    fc_layer_params=fc_layer_params)\n"
   ]
  },
  {
   "cell_type": "code",
   "execution_count": 9,
   "metadata": {},
   "outputs": [
    {
     "name": "stderr",
     "output_type": "stream",
     "text": [
      "2024-04-07 16:03:12.273293: I external/local_xla/xla/stream_executor/cuda/cuda_executor.cc:887] could not open file to read NUMA node: /sys/bus/pci/devices/0000:01:00.0/numa_node\n",
      "Your kernel may have been built without NUMA support.\n",
      "2024-04-07 16:03:12.400136: I external/local_xla/xla/stream_executor/cuda/cuda_executor.cc:887] could not open file to read NUMA node: /sys/bus/pci/devices/0000:01:00.0/numa_node\n",
      "Your kernel may have been built without NUMA support.\n",
      "2024-04-07 16:03:12.400199: I external/local_xla/xla/stream_executor/cuda/cuda_executor.cc:887] could not open file to read NUMA node: /sys/bus/pci/devices/0000:01:00.0/numa_node\n",
      "Your kernel may have been built without NUMA support.\n",
      "2024-04-07 16:03:12.405450: I external/local_xla/xla/stream_executor/cuda/cuda_executor.cc:887] could not open file to read NUMA node: /sys/bus/pci/devices/0000:01:00.0/numa_node\n",
      "Your kernel may have been built without NUMA support.\n",
      "2024-04-07 16:03:12.405506: I external/local_xla/xla/stream_executor/cuda/cuda_executor.cc:887] could not open file to read NUMA node: /sys/bus/pci/devices/0000:01:00.0/numa_node\n",
      "Your kernel may have been built without NUMA support.\n",
      "2024-04-07 16:03:12.405548: I external/local_xla/xla/stream_executor/cuda/cuda_executor.cc:887] could not open file to read NUMA node: /sys/bus/pci/devices/0000:01:00.0/numa_node\n",
      "Your kernel may have been built without NUMA support.\n",
      "2024-04-07 16:03:12.541220: I external/local_xla/xla/stream_executor/cuda/cuda_executor.cc:887] could not open file to read NUMA node: /sys/bus/pci/devices/0000:01:00.0/numa_node\n",
      "Your kernel may have been built without NUMA support.\n",
      "2024-04-07 16:03:12.541408: I external/local_xla/xla/stream_executor/cuda/cuda_executor.cc:887] could not open file to read NUMA node: /sys/bus/pci/devices/0000:01:00.0/numa_node\n",
      "Your kernel may have been built without NUMA support.\n",
      "2024-04-07 16:03:12.541432: I tensorflow/core/common_runtime/gpu/gpu_device.cc:2022] Could not identify NUMA node of platform GPU id 0, defaulting to 0.  Your kernel may not have been built with NUMA support.\n",
      "2024-04-07 16:03:12.541497: I external/local_xla/xla/stream_executor/cuda/cuda_executor.cc:887] could not open file to read NUMA node: /sys/bus/pci/devices/0000:01:00.0/numa_node\n",
      "Your kernel may have been built without NUMA support.\n",
      "2024-04-07 16:03:12.541568: I tensorflow/core/common_runtime/gpu/gpu_device.cc:1929] Created device /job:localhost/replica:0/task:0/device:GPU:0 with 1459 MB memory:  -> device: 0, name: NVIDIA GeForce RTX 3050 Laptop GPU, pci bus id: 0000:01:00.0, compute capability: 8.6\n",
      "2024-04-07 16:03:14.867783: I external/local_tsl/tsl/platform/default/subprocess.cc:304] Start cannot spawn child process: No such file or directory\n"
     ]
    }
   ],
   "source": [
    "optimizer = tf.keras.optimizers.Adam(learning_rate=learning_rate)\n",
    "\n",
    "train_step_counter = tf.Variable(0)\n",
    "\n",
    "tf_agent = reinforce_agent.ReinforceAgent(\n",
    "    train_env.time_step_spec(),\n",
    "    train_env.action_spec(),\n",
    "    actor_network=actor_net,\n",
    "    optimizer=optimizer,\n",
    "    normalize_returns=True,\n",
    "    train_step_counter=train_step_counter)\n",
    "tf_agent.initialize()\n"
   ]
  },
  {
   "cell_type": "code",
   "execution_count": 10,
   "metadata": {},
   "outputs": [],
   "source": [
    "eval_policy = tf_agent.policy\n",
    "collect_policy = tf_agent.collect_policy\n"
   ]
  },
  {
   "cell_type": "code",
   "execution_count": 11,
   "metadata": {},
   "outputs": [],
   "source": [
    "def compute_avg_return(environment, policy, num_episodes=10):\n",
    "\n",
    "  total_return = 0.0\n",
    "  for _ in range(num_episodes):\n",
    "\n",
    "    time_step = environment.reset()\n",
    "    episode_return = 0.0\n",
    "\n",
    "    while not time_step.is_last():\n",
    "      action_step = policy.action(time_step)\n",
    "      time_step = environment.step(action_step.action)\n",
    "      episode_return += time_step.reward\n",
    "    total_return += episode_return\n",
    "\n",
    "  avg_return = total_return / num_episodes\n",
    "  return avg_return.numpy()[0]\n",
    "\n",
    "\n",
    "# Please also see the metrics module for standard implementations of different\n",
    "# metrics.\n"
   ]
  },
  {
   "cell_type": "code",
   "execution_count": 12,
   "metadata": {},
   "outputs": [
    {
     "name": "stderr",
     "output_type": "stream",
     "text": [
      "[reverb/cc/platform/tfrecord_checkpointer.cc:162]  Initializing TFRecordCheckpointer in /tmp/tmpj8js4vq6.\n",
      "[reverb/cc/platform/tfrecord_checkpointer.cc:565] Loading latest checkpoint from /tmp/tmpj8js4vq6\n",
      "[reverb/cc/platform/default/server.cc:71] Started replay server on port 42469\n"
     ]
    }
   ],
   "source": [
    "table_name = 'uniform_table'\n",
    "replay_buffer_signature = tensor_spec.from_spec(\n",
    "      tf_agent.collect_data_spec)\n",
    "replay_buffer_signature = tensor_spec.add_outer_dim(\n",
    "      replay_buffer_signature)\n",
    "table = reverb.Table(\n",
    "    table_name,\n",
    "    max_size=replay_buffer_capacity,\n",
    "    sampler=reverb.selectors.Uniform(),\n",
    "    remover=reverb.selectors.Fifo(),\n",
    "    rate_limiter=reverb.rate_limiters.MinSize(1),\n",
    "    signature=replay_buffer_signature)\n",
    "\n",
    "reverb_server = reverb.Server([table])\n",
    "\n",
    "replay_buffer = reverb_replay_buffer.ReverbReplayBuffer(\n",
    "    tf_agent.collect_data_spec,\n",
    "    table_name=table_name,\n",
    "    sequence_length=None,\n",
    "    local_server=reverb_server)\n",
    "\n",
    "rb_observer = reverb_utils.ReverbAddEpisodeObserver(\n",
    "    replay_buffer.py_client,\n",
    "    table_name,\n",
    "    replay_buffer_capacity\n",
    ")\n"
   ]
  },
  {
   "cell_type": "code",
   "execution_count": 13,
   "metadata": {},
   "outputs": [],
   "source": [
    "def collect_episode(environment, policy, num_episodes):\n",
    "\n",
    "  driver = py_driver.PyDriver(\n",
    "    environment,\n",
    "    py_tf_eager_policy.PyTFEagerPolicy(\n",
    "      policy, use_tf_function=True),\n",
    "    [rb_observer],\n",
    "    max_episodes=num_episodes)\n",
    "  initial_time_step = environment.reset()\n",
    "  driver.run(initial_time_step)\n"
   ]
  },
  {
   "cell_type": "code",
   "execution_count": 14,
   "metadata": {},
   "outputs": [
    {
     "name": "stderr",
     "output_type": "stream",
     "text": [
      "[reverb/cc/client.cc:165] Sampler and server are owned by the same process (424795) so Table uniform_table is accessed directly without gRPC.\n",
      "2024-04-07 16:04:11.419148: I external/local_xla/xla/service/service.cc:168] XLA service 0x7fc088e26230 initialized for platform CUDA (this does not guarantee that XLA will be used). Devices:\n",
      "2024-04-07 16:04:11.419193: I external/local_xla/xla/service/service.cc:176]   StreamExecutor device (0): NVIDIA GeForce RTX 3050 Laptop GPU, Compute Capability 8.6\n",
      "2024-04-07 16:04:11.437383: I tensorflow/compiler/mlir/tensorflow/utils/dump_mlir_util.cc:269] disabling MLIR crash reproducer, set env var `MLIR_CRASH_REPRODUCER_DIRECTORY` to enable.\n",
      "2024-04-07 16:04:11.472095: I external/local_xla/xla/stream_executor/cuda/cuda_dnn.cc:454] Loaded cuDNN version 8904\n",
      "WARNING: All log messages before absl::InitializeLog() is called are written to STDERR\n",
      "I0000 00:00:1712486051.588225  425636 device_compiler.h:186] Compiled cluster using XLA!  This line is logged at most once for the lifetime of the process.\n",
      "[reverb/cc/client.cc:165] Sampler and server are owned by the same process (424795) so Table uniform_table is accessed directly without gRPC.\n",
      "[reverb/cc/client.cc:165] Sampler and server are owned by the same process (424795) so Table uniform_table is accessed directly without gRPC.\n",
      "[reverb/cc/client.cc:165] Sampler and server are owned by the same process (424795) so Table uniform_table is accessed directly without gRPC.\n",
      "[reverb/cc/client.cc:165] Sampler and server are owned by the same process (424795) so Table uniform_table is accessed directly without gRPC.\n"
     ]
    },
    {
     "name": "stdout",
     "output_type": "stream",
     "text": [
      "step = 25: loss = 0.3801760673522949\n"
     ]
    },
    {
     "name": "stderr",
     "output_type": "stream",
     "text": [
      "[reverb/cc/client.cc:165] Sampler and server are owned by the same process (424795) so Table uniform_table is accessed directly without gRPC.\n"
     ]
    },
    {
     "name": "stdout",
     "output_type": "stream",
     "text": [
      "step = 50: loss = 1.767978549003601\n",
      "step = 50: Average Return = 74.69999694824219\n"
     ]
    },
    {
     "name": "stderr",
     "output_type": "stream",
     "text": [
      "[reverb/cc/client.cc:165] Sampler and server are owned by the same process (424795) so Table uniform_table is accessed directly without gRPC.\n"
     ]
    },
    {
     "name": "stdout",
     "output_type": "stream",
     "text": [
      "step = 75: loss = 1.339118480682373\n",
      "step = 100: loss = 1.6975359916687012\n",
      "step = 100: Average Return = 91.69999694824219\n",
      "step = 125: loss = 1.239509105682373\n"
     ]
    },
    {
     "name": "stderr",
     "output_type": "stream",
     "text": [
      "[reverb/cc/client.cc:165] Sampler and server are owned by the same process (424795) so Table uniform_table is accessed directly without gRPC.\n"
     ]
    },
    {
     "name": "stdout",
     "output_type": "stream",
     "text": [
      "step = 150: loss = 1.4495882987976074\n",
      "step = 150: Average Return = 145.3000030517578\n",
      "step = 175: loss = 1.789027214050293\n",
      "step = 200: loss = 4.641960144042969\n",
      "step = 200: Average Return = 189.89999389648438\n",
      "step = 225: loss = -4.131172180175781\n",
      "step = 250: loss = 0.2894554138183594\n",
      "step = 250: Average Return = 198.39999389648438\n"
     ]
    }
   ],
   "source": [
    "try:\n",
    "  %%time\n",
    "except:\n",
    "  pass\n",
    "\n",
    "# (Optional) Optimize by wrapping some of the code in a graph using TF function.\n",
    "tf_agent.train = common.function(tf_agent.train)\n",
    "\n",
    "# Reset the train step\n",
    "tf_agent.train_step_counter.assign(0)\n",
    "\n",
    "# Evaluate the agent's policy once before training.\n",
    "avg_return = compute_avg_return(eval_env, tf_agent.policy, num_eval_episodes)\n",
    "returns = [avg_return]\n",
    "\n",
    "for _ in range(num_iterations):\n",
    "\n",
    "  # Collect a few episodes using collect_policy and save to the replay buffer.\n",
    "  collect_episode(\n",
    "      train_py_env, tf_agent.collect_policy, collect_episodes_per_iteration)\n",
    "\n",
    "  # Use data from the buffer and update the agent's network.\n",
    "  iterator = iter(replay_buffer.as_dataset(sample_batch_size=1))\n",
    "  trajectories, _ = next(iterator)\n",
    "  train_loss = tf_agent.train(experience=trajectories)\n",
    "\n",
    "  replay_buffer.clear()\n",
    "\n",
    "  step = tf_agent.train_step_counter.numpy()\n",
    "\n",
    "  if step % log_interval == 0:\n",
    "    print('step = {0}: loss = {1}'.format(step, train_loss.loss))\n",
    "\n",
    "  if step % eval_interval == 0:\n",
    "    avg_return = compute_avg_return(eval_env, tf_agent.policy, num_eval_episodes)\n",
    "    print('step = {0}: Average Return = {1}'.format(step, avg_return))\n",
    "    returns.append(avg_return)\n"
   ]
  },
  {
   "cell_type": "code",
   "execution_count": 15,
   "metadata": {},
   "outputs": [
    {
     "data": {
      "text/plain": [
       "(68.4349967956543, 250.0)"
      ]
     },
     "execution_count": 15,
     "metadata": {},
     "output_type": "execute_result"
    },
    {
     "data": {
      "image/png": "[encoded data removed]",
      "text/plain": [
       "<Figure size 640x480 with 1 Axes>"
      ]
     },
     "metadata": {},
     "output_type": "display_data"
    }
   ],
   "source": [
    "steps = range(0, num_iterations + 1, eval_interval)\n",
    "plt.plot(steps, returns)\n",
    "plt.ylabel('Average Return')\n",
    "plt.xlabel('Step')\n",
    "plt.ylim(top=250)\n"
   ]
  },
  {
   "cell_type": "code",
   "execution_count": 16,
   "metadata": {},
   "outputs": [],
   "source": [
    "def embed_mp4(filename):\n",
    "  \"\"\"Embeds an mp4 file in the notebook.\"\"\"\n",
    "  video = open(filename,'rb').read()\n",
    "  b64 = base64.b64encode(video)\n",
    "  tag = '''\n",
    "  <video width=\"640\" height=\"480\" controls>\n",
    "    <source src=\"data:video/mp4;base64,{0}\" type=\"video/mp4\">\n",
    "  Your browser does not support the video tag.\n",
    "  </video>'''.format(b64.decode())\n",
    "\n",
    "  return IPython.display.HTML(tag)\n"
   ]
  },
  {
   "cell_type": "code",
   "execution_count": 17,
   "metadata": {},
   "outputs": [
    {
     "name": "stderr",
     "output_type": "stream",
     "text": [
      "WARNING:root:IMAGEIO FFMPEG_WRITER WARNING: input image is not divisible by macro_block_size=16, resizing from (400, 600) to (400, 608) to ensure video compatibility with most codecs and players. To prevent resizing, make your input image divisible by the macro_block_size or set the macro_block_size to None (risking incompatibility). You may also see a FFMPEG warning concerning speedloss due to data not being aligned.\n",
      "[swscaler @ 0x56473ee925c0] Warning: data is not aligned! This can lead to a speed loss\n"
     ]
    },
    {
     "data": {
      "text/html": [
       "\n",
       "  <video width=\"640\" height=\"480\" controls>\n",
       "    <source src=\"data:video/mp4;base64,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\" type=\"video/mp4\">\n",
       "  Your browser does not support the video tag.\n",
       "  </video>"
      ],
      "text/plain": [
       "<IPython.core.display.HTML object>"
      ]
     },
     "execution_count": 17,
     "metadata": {},
     "output_type": "execute_result"
    }
   ],
   "source": [
    "num_episodes = 3\n",
    "video_filename = 'imageio.mp4'\n",
    "with imageio.get_writer(video_filename, fps=60) as video:\n",
    "  for _ in range(num_episodes):\n",
    "    time_step = eval_env.reset()\n",
    "    video.append_data(eval_py_env.render())\n",
    "    while not time_step.is_last():\n",
    "      action_step = tf_agent.policy.action(time_step)\n",
    "      time_step = eval_env.step(action_step.action)\n",
    "      video.append_data(eval_py_env.render())\n",
    "\n",
    "embed_mp4(video_filename)\n"
   ]
  }
 ],
 "metadata": {
  "kernelspec": {
   "display_name": "Python 3",
   "language": "python",
   "name": "python3"
  },
  "language_info": {
   "codemirror_mode": {
    "name": "ipython",
    "version": 3
   },
   "file_extension": ".py",
   "mimetype": "text/x-python",
   "name": "python",
   "nbconvert_exporter": "python",
   "pygments_lexer": "ipython3",
   "version": "3.10.12"
  }
 },
 "nbformat": 4,
 "nbformat_minor": 2
}
